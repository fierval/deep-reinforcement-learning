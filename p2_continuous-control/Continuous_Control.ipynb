{
 "cells": [
  {
   "cell_type": "markdown",
   "metadata": {},
   "source": [
    "# Continuous Control\n",
    "\n",
    "---\n",
    "\n",
    "In this notebook, you will learn how to use the Unity ML-Agents environment for the second project of the [Deep Reinforcement Learning Nanodegree](https://www.udacity.com/course/deep-reinforcement-learning-nanodegree--nd893) program.\n",
    "\n",
    "### 1. Start the Environment\n",
    "\n",
    "We begin by importing the necessary packages.  If the code cell below returns an error, please revisit the project instructions to double-check that you have installed [Unity ML-Agents](https://github.com/Unity-Technologies/ml-agents/blob/master/docs/Installation.md) and [NumPy](http://www.numpy.org/).\n",
    "\n",
    "Install Tensorboard extension for PyTorch"
   ]
  },
  {
   "cell_type": "code",
   "execution_count": 1,
   "metadata": {},
   "outputs": [
    {
     "name": "stdout",
     "output_type": "stream",
     "text": [
      "Requirement already satisfied: tensorboardX in c:\\anaconda3\\envs\\agents\\lib\\site-packages (1.6)\n",
      "Requirement already satisfied: numpy in c:\\anaconda3\\envs\\agents\\lib\\site-packages (from tensorboardX) (1.16.2)\n",
      "Requirement already satisfied: protobuf>=3.2.0 in c:\\anaconda3\\envs\\agents\\lib\\site-packages (from tensorboardX) (3.7.0)\n",
      "Requirement already satisfied: six in c:\\anaconda3\\envs\\agents\\lib\\site-packages (from tensorboardX) (1.12.0)\n",
      "Requirement already satisfied: setuptools in c:\\anaconda3\\envs\\agents\\lib\\site-packages (from protobuf>=3.2.0->tensorboardX) (40.8.0)\n"
     ]
    }
   ],
   "source": [
    "!pip install tensorboardX"
   ]
  },
  {
   "cell_type": "code",
   "execution_count": 2,
   "metadata": {},
   "outputs": [],
   "source": [
    "from unityagents import UnityEnvironment\n",
    "import numpy as np"
   ]
  },
  {
   "cell_type": "markdown",
   "metadata": {},
   "source": [
    "Next, we will start the environment!  **_Before running the code cell below_**, change the `file_name` parameter to match the location of the Unity environment that you downloaded.\n",
    "\n",
    "- **Mac**: `\"path/to/Reacher.app\"`\n",
    "- **Windows** (x86): `\"path/to/Reacher_Windows_x86/Reacher.exe\"`\n",
    "- **Windows** (x86_64): `\"path/to/Reacher_Windows_x86_64/Reacher.exe\"`\n",
    "- **Linux** (x86): `\"path/to/Reacher_Linux/Reacher.x86\"`\n",
    "- **Linux** (x86_64): `\"path/to/Reacher_Linux/Reacher.x86_64\"`\n",
    "- **Linux** (x86, headless): `\"path/to/Reacher_Linux_NoVis/Reacher.x86\"`\n",
    "- **Linux** (x86_64, headless): `\"path/to/Reacher_Linux_NoVis/Reacher.x86_64\"`\n",
    "\n",
    "For instance, if you are using a Mac, then you downloaded `Reacher.app`.  If this file is in the same folder as the notebook, then the line below should appear as follows:\n",
    "```\n",
    "env = UnityEnvironment(file_name=\"Reacher.app\")\n",
    "```"
   ]
  },
  {
   "cell_type": "code",
   "execution_count": 3,
   "metadata": {},
   "outputs": [
    {
     "name": "stderr",
     "output_type": "stream",
     "text": [
      "INFO:unityagents:\n",
      "'Academy' started successfully!\n",
      "Unity Academy name: Academy\n",
      "        Number of Brains: 1\n",
      "        Number of External Brains : 1\n",
      "        Lesson number : 0\n",
      "        Reset Parameters :\n",
      "\t\tgoal_speed -> 1.0\n",
      "\t\tgoal_size -> 5.0\n",
      "Unity brain name: ReacherBrain\n",
      "        Number of Visual Observations (per agent): 0\n",
      "        Vector Observation space type: continuous\n",
      "        Vector Observation space size (per agent): 33\n",
      "        Number of stacked Vector Observation: 1\n",
      "        Vector Action space type: continuous\n",
      "        Vector Action space size (per agent): 4\n",
      "        Vector Action descriptions: , , , \n"
     ]
    }
   ],
   "source": [
    "env = UnityEnvironment(file_name='Reacher_Windows_20/Reacher')"
   ]
  },
  {
   "cell_type": "markdown",
   "metadata": {},
   "source": [
    "Environments contain **_brains_** which are responsible for deciding the actions of their associated agents. Here we check for the first brain available, and set it as the default brain we will be controlling from Python."
   ]
  },
  {
   "cell_type": "code",
   "execution_count": 4,
   "metadata": {},
   "outputs": [],
   "source": [
    "# get the default brain\n",
    "brain_name = env.brain_names[0]\n",
    "brain = env.brains[brain_name]"
   ]
  },
  {
   "cell_type": "markdown",
   "metadata": {},
   "source": [
    "### 2. Examine the State and Action Spaces\n",
    "\n",
    "In this environment, a double-jointed arm can move to target locations. A reward of `+0.1` is provided for each step that the agent's hand is in the goal location. Thus, the goal of your agent is to maintain its position at the target location for as many time steps as possible.\n",
    "\n",
    "The observation space consists of `33` variables corresponding to position, rotation, velocity, and angular velocities of the arm.  Each action is a vector with four numbers, corresponding to torque applicable to two joints.  Every entry in the action vector must be a number between `-1` and `1`.\n",
    "\n",
    "Run the code cell below to print some information about the environment."
   ]
  },
  {
   "cell_type": "code",
   "execution_count": 5,
   "metadata": {},
   "outputs": [
    {
     "name": "stdout",
     "output_type": "stream",
     "text": [
      "Number of agents: 20\n",
      "Size of each action: 4\n",
      "There are 20 agents. Each observes a state with length: 33\n",
      "The state for the first agent looks like: [ 0.00000000e+00 -4.00000000e+00  0.00000000e+00  1.00000000e+00\n",
      " -0.00000000e+00 -0.00000000e+00 -4.37113883e-08  0.00000000e+00\n",
      "  0.00000000e+00  0.00000000e+00  0.00000000e+00  0.00000000e+00\n",
      "  0.00000000e+00  0.00000000e+00 -1.00000000e+01  0.00000000e+00\n",
      "  1.00000000e+00 -0.00000000e+00 -0.00000000e+00 -4.37113883e-08\n",
      "  0.00000000e+00  0.00000000e+00  0.00000000e+00  0.00000000e+00\n",
      "  0.00000000e+00  0.00000000e+00  5.75471878e+00 -1.00000000e+00\n",
      "  5.55726624e+00  0.00000000e+00  1.00000000e+00  0.00000000e+00\n",
      " -1.68164849e-01]\n"
     ]
    }
   ],
   "source": [
    "# reset the environment\n",
    "env_info = env.reset(train_mode=True)[brain_name]\n",
    "\n",
    "# number of agents\n",
    "num_agents = len(env_info.agents)\n",
    "print('Number of agents:', num_agents)\n",
    "\n",
    "# size of each action\n",
    "action_size = brain.vector_action_space_size\n",
    "print('Size of each action:', action_size)\n",
    "\n",
    "# examine the state space \n",
    "states = env_info.vector_observations\n",
    "state_size = states.shape[1]\n",
    "print('There are {} agents. Each observes a state with length: {}'.format(states.shape[0], state_size))\n",
    "print('The state for the first agent looks like:', states[0])"
   ]
  },
  {
   "cell_type": "markdown",
   "metadata": {},
   "source": [
    "### 3. Take Random Actions in the Environment\n",
    "\n",
    "In the next code cell, you will learn how to use the Python API to control the agent and receive feedback from the environment.\n",
    "\n",
    "Once this cell is executed, you will watch the agent's performance, if it selects an action at random with each time step.  A window should pop up that allows you to observe the agent, as it moves through the environment.  \n",
    "\n",
    "Of course, as part of the project, you'll have to change the code so that the agent is able to use its experience to gradually choose better actions when interacting with the environment!"
   ]
  },
  {
   "cell_type": "code",
   "execution_count": null,
   "metadata": {},
   "outputs": [],
   "source": [
    "env_info = env.reset(train_mode=False)[brain_name]     # reset the environment    \n",
    "states = env_info.vector_observations                  # get the current state (for each agent)\n",
    "scores = np.zeros(num_agents)                          # initialize the score (for each agent)\n",
    "while True:\n",
    "    actions = np.random.randn(num_agents, action_size) # select an action (for each agent)\n",
    "    actions = np.clip(actions, -1, 1)                  # all actions between -1 and 1\n",
    "    env_info = env.step(actions)[brain_name]           # send all actions to tne environment\n",
    "    next_states = env_info.vector_observations         # get next state (for each agent)\n",
    "    rewards = env_info.rewards                         # get reward (for each agent)\n",
    "    dones = env_info.local_done                        # see if episode finished\n",
    "    scores += env_info.rewards                         # update the score (for each agent)\n",
    "    states = next_states                               # roll over states to next time step\n",
    "    if np.any(dones):                                  # exit loop if episode finished\n",
    "        break\n",
    "print('Total score (averaged over agents) this episode: {}'.format(np.mean(scores)))"
   ]
  },
  {
   "cell_type": "markdown",
   "metadata": {},
   "source": [
    "### 4. Train with DDPG\n",
    "\n",
    "Using TensorBoard to visualize the results during training. It will store logs in the \"runs\" subdirectory of the root:\n",
    "\n",
    "`tensorboard --logdir runs/<name_of_run> --host localhost --port 8080`"
   ]
  },
  {
   "cell_type": "code",
   "execution_count": 6,
   "metadata": {},
   "outputs": [],
   "source": [
    "from ddpg_agent import Agent, N_EPISODES, MAX_T\n",
    "from utils import distr_projection, RewardTracker, TBMeanTracker\n",
    "import time\n",
    "import torch\n",
    "\n",
    "SOLVED_SCORE = 30\n",
    "MEAN_WINDOW = 100\n",
    "\n",
    "n_episodes = N_EPISODES\n",
    "max_t = MAX_T\n",
    "\n",
    "#agent = D4PGAgent(num_agents, state_size, action_size, 1)\n",
    "agent = Agent(num_agents, state_size, action_size, 1)\n",
    "max_score = -np.Inf\n",
    "solved_episode = -np.Inf\n",
    "\n",
    "# Tensorboard based reward tracker\n",
    "reward_tracker = RewardTracker(agent.writer, MEAN_WINDOW)"
   ]
  },
  {
   "cell_type": "code",
   "execution_count": 7,
   "metadata": {
    "scrolled": false
   },
   "outputs": [
    {
     "name": "stderr",
     "output_type": "stream",
     "text": [
      "c:\\anaconda3\\envs\\agents\\lib\\site-packages\\torch\\nn\\functional.py:1320: UserWarning: nn.functional.tanh is deprecated. Use torch.tanh instead.\n",
      "  warnings.warn(\"nn.functional.tanh is deprecated. Use torch.tanh instead.\")\n"
     ]
    },
    {
     "name": "stdout",
     "output_type": "stream",
     "text": [
      "1: reward 0.673, mean reward 0.673, min 0.060, max 1.880, duration 122.90 s\n",
      "2: reward 1.566, mean reward 1.120, min 0.630, max 2.890, duration 125.99 s\n",
      "3: reward 3.105, mean reward 1.782, min 1.100, max 5.010, duration 126.28 s\n",
      "4: reward 3.272, mean reward 2.154, min 1.500, max 5.300, duration 126.27 s\n",
      "5: reward 4.042, mean reward 2.532, min 1.750, max 7.770, duration 126.64 s\n",
      "6: reward 3.982, mean reward 2.774, min 2.010, max 6.990, duration 127.77 s\n",
      "7: reward 4.936, mean reward 3.083, min 3.010, max 8.480, duration 129.42 s\n",
      "8: reward 5.811, mean reward 3.424, min 3.030, max 9.400, duration 129.49 s\n",
      "9: reward 7.756, mean reward 3.905, min 4.610, max 12.230, duration 129.80 s\n",
      "10: reward 8.748, mean reward 4.389, min 4.700, max 14.620, duration 130.58 s\n",
      "11: reward 9.300, mean reward 4.836, min 5.600, max 15.300, duration 131.44 s\n",
      "12: reward 11.409, mean reward 5.384, min 5.510, max 18.860, duration 132.38 s\n",
      "13: reward 12.503, mean reward 5.931, min 6.090, max 16.320, duration 133.33 s\n",
      "14: reward 16.415, mean reward 6.680, min 9.360, max 23.980, duration 134.87 s\n",
      "15: reward 19.309, mean reward 7.522, min 15.360, max 29.190, duration 136.93 s\n",
      "16: reward 18.211, mean reward 8.190, min 15.690, max 23.350, duration 137.82 s\n",
      "17: reward 20.740, mean reward 8.928, min 15.880, max 27.680, duration 139.47 s\n",
      "18: reward 21.031, mean reward 9.601, min 14.820, max 26.260, duration 140.90 s\n",
      "19: reward 21.953, mean reward 10.251, min 16.700, max 25.510, duration 142.65 s\n",
      "20: reward 23.178, mean reward 10.897, min 17.780, max 28.470, duration 144.61 s\n",
      "21: reward 25.607, mean reward 11.598, min 20.150, max 36.260, duration 146.06 s\n",
      "22: reward 26.892, mean reward 12.293, min 21.220, max 30.470, duration 147.94 s\n",
      "23: reward 28.307, mean reward 12.989, min 22.430, max 32.330, duration 150.06 s\n",
      "24: reward 29.314, mean reward 13.669, min 24.060, max 34.020, duration 152.96 s\n",
      "25: reward 32.524, mean reward 14.424, min 27.810, max 37.990, duration 154.86 s\n",
      "26: reward 34.188, mean reward 15.184, min 31.110, max 37.170, duration 157.37 s\n",
      "27: reward 34.406, mean reward 15.896, min 30.290, max 39.090, duration 159.43 s\n",
      "28: reward 36.480, mean reward 16.631, min 32.410, max 39.400, duration 161.60 s\n",
      "29: reward 37.830, mean reward 17.362, min 32.400, max 39.520, duration 163.12 s\n",
      "30: reward 36.122, mean reward 17.987, min 31.560, max 39.220, duration 165.72 s\n",
      "31: reward 36.999, mean reward 18.601, min 33.880, max 39.620, duration 167.88 s\n",
      "32: reward 36.259, mean reward 19.152, min 30.510, max 39.240, duration 170.36 s\n",
      "33: reward 37.840, mean reward 19.719, min 35.150, max 39.570, duration 172.06 s\n",
      "34: reward 37.968, mean reward 20.255, min 35.640, max 39.520, duration 173.60 s\n",
      "35: reward 37.419, mean reward 20.746, min 34.230, max 39.290, duration 176.14 s\n",
      "36: reward 38.029, mean reward 21.226, min 34.350, max 39.320, duration 177.98 s\n",
      "37: reward 38.424, mean reward 21.691, min 36.620, max 39.500, duration 180.06 s\n",
      "38: reward 38.139, mean reward 22.124, min 36.120, max 39.520, duration 183.08 s\n",
      "39: reward 38.113, mean reward 22.534, min 33.460, max 39.550, duration 184.89 s\n",
      "40: reward 37.904, mean reward 22.918, min 36.020, max 39.610, duration 187.47 s\n",
      "41: reward 38.379, mean reward 23.295, min 36.380, max 39.300, duration 189.11 s\n",
      "42: reward 37.656, mean reward 23.637, min 32.780, max 39.400, duration 191.51 s\n",
      "43: reward 38.626, mean reward 23.986, min 36.710, max 39.530, duration 192.96 s\n",
      "44: reward 36.992, mean reward 24.281, min 30.260, max 39.620, duration 196.55 s\n",
      "45: reward 38.205, mean reward 24.591, min 34.910, max 39.540, duration 197.59 s\n",
      "46: reward 38.286, mean reward 24.888, min 35.210, max 39.530, duration 200.62 s\n",
      "47: reward 38.535, mean reward 25.179, min 37.000, max 39.530, duration 201.44 s\n",
      "48: reward 37.059, mean reward 25.426, min 31.660, max 39.250, duration 203.88 s\n",
      "49: reward 38.385, mean reward 25.691, min 35.820, max 39.470, duration 205.97 s\n",
      "50: reward 38.165, mean reward 25.940, min 34.110, max 39.490, duration 208.03 s\n",
      "51: reward 38.783, mean reward 26.192, min 37.750, max 39.520, duration 209.52 s\n",
      "52: reward 39.042, mean reward 26.439, min 37.900, max 39.460, duration 209.22 s\n",
      "53: reward 39.083, mean reward 26.678, min 38.180, max 39.530, duration 209.15 s\n",
      "54: reward 38.619, mean reward 26.899, min 35.170, max 39.530, duration 209.59 s\n",
      "55: reward 38.548, mean reward 27.111, min 32.950, max 39.610, duration 210.21 s\n",
      "56: reward 38.649, mean reward 27.317, min 36.820, max 39.440, duration 209.83 s\n",
      "57: reward 38.655, mean reward 27.516, min 36.620, max 39.600, duration 209.60 s\n",
      "58: reward 38.501, mean reward 27.705, min 36.910, max 39.560, duration 210.03 s\n",
      "59: reward 38.530, mean reward 27.888, min 37.650, max 39.420, duration 209.23 s\n",
      "60: reward 38.618, mean reward 28.067, min 37.370, max 39.410, duration 208.72 s\n",
      "61: reward 38.764, mean reward 28.243, min 32.630, max 39.610, duration 209.09 s\n",
      "62: reward 38.868, mean reward 28.414, min 38.030, max 39.580, duration 208.54 s\n",
      "63: reward 38.623, mean reward 28.576, min 35.830, max 39.630, duration 208.41 s\n",
      "64: reward 38.030, mean reward 28.724, min 35.430, max 39.360, duration 208.32 s\n",
      "65: reward 38.653, mean reward 28.877, min 35.830, max 39.590, duration 208.63 s\n",
      "66: reward 37.686, mean reward 29.010, min 35.980, max 39.360, duration 208.49 s\n",
      "67: reward 38.576, mean reward 29.153, min 36.460, max 39.540, duration 208.75 s\n",
      "68: reward 38.268, mean reward 29.287, min 36.380, max 39.530, duration 209.48 s\n",
      "69: reward 36.879, mean reward 29.397, min 29.620, max 39.440, duration 209.41 s\n",
      "70: reward 37.801, mean reward 29.517, min 33.900, max 39.560, duration 208.35 s\n",
      "71: reward 37.296, mean reward 29.627, min 33.180, max 39.570, duration 209.51 s\n",
      "72: reward 38.044, mean reward 29.743, min 33.580, max 39.570, duration 209.07 s\n",
      "73: reward 37.710, mean reward 29.853, min 33.780, max 39.460, duration 207.87 s\n",
      "74: reward 38.354, mean reward 29.967, min 36.160, max 39.510, duration 208.91 s\n",
      "75: reward 37.869, mean reward 30.073, min 32.860, max 39.590, duration 208.56 s\n",
      "Solved in -25 episodes\n"
     ]
    }
   ],
   "source": [
    "for i_episode in range(1, n_episodes+1):\n",
    "    env_info = env.reset(train_mode=True)[brain_name]\n",
    "    states = env_info.vector_observations\n",
    "    scores = np.zeros(num_agents)\n",
    "\n",
    "    # noise reset\n",
    "    #agent.reset()\n",
    "    start_time = time.time()\n",
    "    for t in range(max_t):\n",
    "        actions = agent.act(states)\n",
    "\n",
    "        env_info = env.step(actions)[brain_name]           # send all actions to tne environment\n",
    "        next_states = env_info.vector_observations         # get next state (for each agent)\n",
    "        rewards = env_info.rewards                         # get reward (for each agent)\n",
    "        dones = env_info.local_done                        # see if episode finished\n",
    "        for state, action, reward, next_state, done in zip(states, actions, rewards, next_states, dones):\n",
    "            agent.step(state, action, reward, next_state, done, t)             \n",
    "        states = next_states\n",
    "\n",
    "        scores += rewards\n",
    "\n",
    "        if np.any(dones):\n",
    "            break\n",
    "\n",
    "    # does all the right things with reward tracking\n",
    "    duration = time.time() - start_time\n",
    "    score = np.mean(scores)\n",
    "    mean_reward = reward_tracker.reward(scores, score, agent.step_t, duration)\n",
    "    \n",
    "    # save stuff for the report\n",
    "    if i_episode == 1 or i_episode == 50 or i_episode == 100:\n",
    "        torch.save(agent.actor_local.state_dict(), f'checkpoint_actor_{i_episode:03d}.pth')\n",
    "        torch.save(agent.critic_local.state_dict(), f'checkpoint_critic_{i_episode:03f}.pth')\n",
    "        \n",
    "        max_score = score\n",
    "\n",
    "    if mean_reward is not None and mean_reward >=  SOLVED_SCORE:\n",
    "        torch.save(agent.actor_local.state_dict(), f'checkpoint_actor.pth')\n",
    "        torch.save(agent.critic_local.state_dict(), f'checkpoint_critic.pth')\n",
    "        \n",
    "        solved_episode = i_episode - MEAN_WINDOW\n",
    "        print(f\"Solved in {solved_episode} episodes\")\n",
    "\n",
    "        break"
   ]
  },
  {
   "cell_type": "markdown",
   "metadata": {},
   "source": [
    "### 5. Visualize Results"
   ]
  },
  {
   "cell_type": "code",
   "execution_count": 9,
   "metadata": {},
   "outputs": [
    {
     "data": {
      "image/png": "[encoded data removed]",
      "text/plain": [
       "<Figure size 432x288 with 1 Axes>"
      ]
     },
     "metadata": {
      "needs_background": "light"
     },
     "output_type": "display_data"
    }
   ],
   "source": [
    "import matplotlib.pyplot as plt\n",
    "\n",
    "fig = plt.figure()\n",
    "plt.plot(np.arange(len(reward_tracker.total_rewards)), reward_tracker.total_rewards, label='Rewards')\n",
    "plt.ylabel('Score')\n",
    "plt.xlabel('Episode #')\n",
    "plt.show()"
   ]
  },
  {
   "cell_type": "markdown",
   "metadata": {},
   "source": [
    "### 6. Load trained model and give it a go"
   ]
  },
  {
   "cell_type": "code",
   "execution_count": 10,
   "metadata": {
    "scrolled": false
   },
   "outputs": [],
   "source": [
    "actor_file = r'checkpoint_actor.pth'\n",
    "\n",
    "agent = agent = Agent(num_agents, state_size, action_size, 1)\n",
    "state_dict_actor = torch.load(actor_file)\n",
    "agent.actor_local.load_state_dict(state_dict_actor)\n"
   ]
  },
  {
   "cell_type": "code",
   "execution_count": 11,
   "metadata": {},
   "outputs": [
    {
     "name": "stderr",
     "output_type": "stream",
     "text": [
      "c:\\anaconda3\\envs\\agents\\lib\\site-packages\\torch\\nn\\functional.py:1320: UserWarning: nn.functional.tanh is deprecated. Use torch.tanh instead.\n",
      "  warnings.warn(\"nn.functional.tanh is deprecated. Use torch.tanh instead.\")\n"
     ]
    },
    {
     "name": "stdout",
     "output_type": "stream",
     "text": [
      "Total score (averaged over agents) this episode: 38.19949914617464\n"
     ]
    }
   ],
   "source": [
    "env_info = env.reset(train_mode=False)[brain_name]     # reset the environment    \n",
    "states = env_info.vector_observations                  # get the current state (for each agent)\n",
    "scores = np.zeros(num_agents)                          # initialize the score (for each agent)\n",
    "while True:\n",
    "    actions = agent.act(states, add_noise=False) # select an action (for each agent)\n",
    "    env_info = env.step(actions)[brain_name]           # send all actions to tne environment\n",
    "    next_states = env_info.vector_observations         # get next state (for each agent)\n",
    "    rewards = env_info.rewards                         # get reward (for each agent)\n",
    "    dones = env_info.local_done                        # see if episode finished\n",
    "    scores += env_info.rewards                         # update the score (for each agent)\n",
    "    states = next_states                               # roll over states to next time step\n",
    "    if np.any(dones):                                  # exit loop if episode finished\n",
    "        break\n",
    "print('Total score (averaged over agents) this episode: {}'.format(np.mean(scores)))"
   ]
  },
  {
   "cell_type": "code",
   "execution_count": 12,
   "metadata": {},
   "outputs": [],
   "source": [
    "env.close()"
   ]
  }
 ],
 "metadata": {
  "kernelspec": {
   "display_name": "Python 3",
   "language": "python",
   "name": "python3"
  },
  "language_info": {
   "codemirror_mode": {
    "name": "ipython",
    "version": 3
   },
   "file_extension": ".py",
   "mimetype": "text/x-python",
   "name": "python",
   "nbconvert_exporter": "python",
   "pygments_lexer": "ipython3",
   "version": "3.6.8"
  }
 },
 "nbformat": 4,
 "nbformat_minor": 2
}
